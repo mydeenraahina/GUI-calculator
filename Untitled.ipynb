{
  "nbformat": 4,
  "nbformat_minor": 0,
  "metadata": {
    "colab": {
      "private_outputs": true,
      "provenance": [],
      "authorship_tag": "ABX9TyMWZ2jrRZVXAUA7pBgHxsG9",
      "include_colab_link": true
    },
    "kernelspec": {
      "name": "python3",
      "display_name": "Python 3"
    },
    "language_info": {
      "name": "python"
    }
  },
  "cells": [
    {
      "cell_type": "markdown",
      "metadata": {
        "id": "view-in-github",
        "colab_type": "text"
      },
      "source": [
        "<a href=\"https://colab.research.google.com/github/mydeenraahina/GUI-calculator/blob/main/Untitled.ipynb\" target=\"_parent\"><img src=\"https://colab.research.google.com/assets/colab-badge.svg\" alt=\"Open In Colab\"/></a>"
      ]
    },
    {
      "cell_type": "code",
      "source": [
        "from google.colab import drive\n",
        "drive.mount('/content/drive')\n",
        "# Importing libraries\n",
        "import pandas as pd\n",
        "\n",
        "# Setting display options for Pandas\n",
        "pd.options.display.max_rows = 150\n",
        "pd.options.display.max_columns = 8\n",
        "\n",
        "# Define file paths for the Excel datasets\n",
        "dataset_path1 = \"/content/drive/MyDrive/Electors Data Summary .xlsx\"\n",
        "dataset_path2 = \"/content/drive/MyDrive/PoliticalParties_ContestedSeats.xlsx\"\n",
        "dataset_path3 = \"/content/drive/MyDrive/party performance.xlsx\"\n",
        "# Function to read Excel datasets\n",
        "def Read_Excel(dataset_path):\n",
        "    try:\n",
        "        # Attempt to read the Excel file\n",
        "        dataset = pd.read_excel(dataset_path)\n",
        "    except FileNotFoundError as e1:\n",
        "        # Print an error message if the file is not found\n",
        "        print(f\"Error: {e1} File not found\")\n",
        "    else:\n",
        "        # Return the dataset if successfully read\n",
        "        return dataset\n",
        "\n",
        "# Dataset 1: Electors Data Summary\n",
        "dataset1 = Read_Excel(dataset_path1)\n",
        "print(dataset1)\n",
        "# Dataset 2: PoliticalParties_ContestedSeats\n",
        "dataset2 = Read_Excel(dataset_path2)\n",
        "print(dataset1)\n",
        "# Dataset 3: Performance of Political Parties\n",
        "dataset3 = Read_Excel(dataset_path3)\n",
        "print(dataset1)\n"
      ],
      "metadata": {
        "id": "LU7yEsOTSJ7F"
      },
      "execution_count": null,
      "outputs": []
    }
  ]
}